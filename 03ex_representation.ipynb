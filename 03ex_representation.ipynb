{
 "cells": [
  {
   "cell_type": "markdown",
   "metadata": {},
   "source": [
    "1\\. **Number representation**\n",
    "\n",
    "Write a function that converts integer numbers among the bin, dec, and hex representations (bin<->dec<->hex).\n",
    "Determine the input type in the function, and pass another argument to choose the output representation."
   ]
  },
  {
   "cell_type": "code",
   "execution_count": 1,
   "metadata": {},
   "outputs": [
    {
     "name": "stdout",
     "output_type": "stream",
     "text": [
      "Input:0xF\n",
      "Output (Binary): 0b1111\n",
      "Output (Decimal): 15\n"
     ]
    }
   ],
   "source": [
    "def ex1(input, output_type):\n",
    "    \n",
    "    if isinstance(input, str): #checking if input is a string\n",
    "        if input.startswith('0b'):\n",
    "            input_type = 'bin'\n",
    "        elif input.startswith('0x'):\n",
    "            input_type = 'hex'\n",
    "        else:\n",
    "            input_type = 'dec'\n",
    "    elif isinstance(input, int): #checking if input is an integer\n",
    "        input_type = 'dec'\n",
    "    else:\n",
    "        print(\"Input must be a string or integer\")\n",
    "\n",
    "    if input_type == 'bin':\n",
    "        input = int(input, 2)\n",
    "    elif input_type == 'hex':\n",
    "        input = int(input, 16)\n",
    "\n",
    "    if output_type == 'bin':\n",
    "        return bin(input)\n",
    "    elif output_type == 'hex':\n",
    "        return hex(input)\n",
    "    elif output_type == 'dec':\n",
    "        return str(input)\n",
    "    else:\n",
    "        raise ValueError(\"Output type must be 'bin', 'dec', or 'hex'\")\n",
    "\n",
    "input = '0xF'\n",
    "print(\"Input:{}\".format(input))\n",
    "print(\"Output (Binary): {}\".format(ex1(input, 'bin')))\n",
    "print(\"Output (Decimal): {}\".format(ex1(input, 'dec')))"
   ]
  },
  {
   "cell_type": "markdown",
   "metadata": {},
   "source": [
    "2\\. **32-bit floating point number**\n",
    "\n",
    "Write a function that converts a 32 bit binary string (for example, `110000101011000000000000`) into a single precision floating point in decimal representation. Interpret the various bits as sign, fractional part of the mantissa and exponent, according to the IEEE 754 reccommendations."
   ]
  },
  {
   "cell_type": "code",
   "execution_count": 2,
   "metadata": {},
   "outputs": [
    {
     "name": "stdout",
     "output_type": "stream",
     "text": [
      "-88.0\n"
     ]
    }
   ],
   "source": [
    "def ex2(binary_str):\n",
    "    bias = 127\n",
    "    sign = int(binary_str[0], 2) # 1bit\n",
    "    exponent = int(binary_str[1:9], 2) #8 bits\n",
    "    mantissa = int(binary_str[9:], 2) #23 bits\n",
    "    \n",
    "    if exponent == 0 and mantissa == 0:\n",
    "        return 0.0 if sign == 0 else -0.0\n",
    "    \n",
    "    f = 1.0;\n",
    "    for i in range(1, 24): \n",
    "        f += ((mantissa >> (23 - i)) & 1) * 2**(-i)\n",
    "    result = (-1)**sign * 2**(exponent - 127) * f\n",
    "    return result\n",
    "\n",
    "binary_str = \"11000010101100000000000000000000\"  # Example binary string\n",
    "result = ex2(binary_str)\n",
    "print(result)"
   ]
  },
  {
   "cell_type": "markdown",
   "metadata": {},
   "source": [
    "3\\. **Underflow and overflow**\n",
    "\n",
    "Write a program to determine the approximate underflow and overflow limits (within a factor of 2) for floating point numbers on your computer. \n",
    "\n",
    "*Hint*: define two variables initialized to 1, and halve/double them for a sufficient amount of times to exceed the under/over-flow limits."
   ]
  },
  {
   "cell_type": "code",
   "execution_count": 3,
   "metadata": {},
   "outputs": [],
   "source": [
    "overflow= 1.0\n",
    "underflow=1.0\n",
    "\n",
    "while underflow / 2 >  0.0:\n",
    "    underflow /= 2\n",
    "while overflow * 2 < float('inf'):\n",
    "    overflow *= overflow\n",
    "print(\"Underflow limit:\", underflow)\n",
    "print(\"Overflow limit:\", overflow)"
   ]
  },
  {
   "cell_type": "markdown",
   "metadata": {},
   "source": [
    "4\\. **Machine precision**\n",
    "\n",
    "Similarly to the previous exercise, write a program to determine the machine precision for floating point numbers.\n",
    "\n",
    "*Hint*: define a new variable by adding an increasingly smaller value and check when the addition starts to have no effect on the number."
   ]
  },
  {
   "cell_type": "code",
   "execution_count": 2,
   "metadata": {},
   "outputs": [
    {
     "name": "stdout",
     "output_type": "stream",
     "text": [
      "Machine precision =  2.220446049250313e-16\n"
     ]
    }
   ],
   "source": [
    "machine_precision= 1.0\n",
    "while 1.0 + machine_precision / 2 > 1.0:\n",
    "    machine_precision /= 2\n",
    "\n",
    "print(\"Machine precision = \", machine_precision)"
   ]
  },
  {
   "cell_type": "markdown",
   "metadata": {},
   "source": [
    "5\\. **Quadratic solution**\n",
    "\n",
    "Write a function that takes in input three parameters $a$, $b$ and $c$ and prints out the two solutions to the quadratic equation $ax^2+bx+c=0$ using the standard formula:\n",
    "$$\n",
    "x=\\frac{-b\\pm\\sqrt{b^2-4ac}}{2a}\n",
    "$$\n",
    "\n",
    "(a) use the function to compute the solution for $a=0.001$, $b=1000$ and $c=0.001$\n",
    "\n",
    "(b) re-express the standard solution formula by multiplying the numerator and the denominator by $-b\\mp\\sqrt{b^2-4ac}$ and again find the solution for $a=0.001$, $b=1000$ and $c=0.001$. How does it compare with what has been previously obtained, and why? (add the answer to a Python comment)\n",
    "\n",
    "(c) write a function that computes the roots of a quadratic equation accurately in all cases"
   ]
  },
  {
   "cell_type": "code",
   "execution_count": 3,
   "metadata": {},
   "outputs": [
    {
     "name": "stdout",
     "output_type": "stream",
     "text": [
      "solutions with the first formula:\n",
      "first solution X1: -9.999894245993345e-13\n",
      "second solution X2: -0.999999999999\n",
      "solutions with the second formula:\n",
      "X1: -1000010.5755125057\n",
      "X2: -1.000000000001e-06\n",
      "first solution X1: -9.999894245993345e-13\n",
      "second solution X2: -0.999999999999\n"
     ]
    }
   ],
   "source": [
    "import math\n",
    "\n",
    "def ex5_a(a,b,c):\n",
    "    delta = b**2 - 4*a*c\n",
    "    if delta < 0:\n",
    "        print(\"No real solution found\")\n",
    "    else:\n",
    "        x1 = (-b + math.sqrt(delta)) / 2*a\n",
    "        x2 = (-b - math.sqrt(delta)) / 2*a\n",
    "        print(\"first solution X1:\", x1)\n",
    "        print(\"second solution X2:\", x2)\n",
    "print (\"solutions with the first formula:\")\n",
    "ex5_a(0.001,1000,0.001)\n",
    "\n",
    "def ex5_b(a,b,c):\n",
    "    delta = b**2 - 4*a*c\n",
    "    denominator = -b + math.sqrt(delta)\n",
    "    if denominator == 0:\n",
    "        print (\"No real solution found\")\n",
    "    else:\n",
    "        x1 = 2*c / denominator \n",
    "        x2 = 2*c / (-b - math.sqrt(delta))\n",
    "        print(\"X1:\", x1)\n",
    "        print(\"X2:\", x2)\n",
    "print (\"solutions with the second formula:\")\n",
    "ex5_b(0.001,1000,0.001)\n",
    "\n",
    "def ex5_c(a, b, c):\n",
    "    delta = b**2 - 4*a*c\n",
    "    if delta < 0:\n",
    "        print(\"No real solution found\")\n",
    "    elif delta == 0:\n",
    "        X = -b/(2*a)\n",
    "        print(\"Only 1 solution:\", X)\n",
    "    else:\n",
    "        x1 = (-b + math.sqrt(delta)) / 2*a\n",
    "        x2 = (-b - math.sqrt(delta)) / 2*a\n",
    "        print(\"first solution X1:\", x1)\n",
    "        print(\"second solution X2:\", x2)\n",
    "ex5_c(0.001,1000,0.001)"
   ]
  },
  {
   "cell_type": "markdown",
   "metadata": {},
   "source": [
    "6\\. **The derivative**\n",
    "\n",
    "Write a program that implements the function $f(x)=x(x−1)$\n",
    "\n",
    "(a) Calculate the derivative of the function at the point $x = 1$ using the derivative definition:\n",
    "\n",
    "$$\n",
    "\\frac{{\\rm d}f}{{\\rm d}x} = \\lim_{\\delta\\to0} \\frac{f(x+\\delta)-f(x)}{\\delta}\n",
    "$$\n",
    "\n",
    "with $\\delta = 10^{−2}$. Calculate the true value of the same derivative analytically and compare it with the answer your program gives. The two will not agree perfectly. Why?\n",
    "\n",
    "(b) Repeat the calculation for $\\delta = 10^{−4}, 10^{−6}, 10^{−8}, 10^{−10}, 10^{−12}$ and $10^{−14}$. How does the accuracy scale with $\\delta$?"
   ]
  },
  {
   "cell_type": "code",
   "execution_count": 4,
   "metadata": {},
   "outputs": [
    {
     "name": "stdout",
     "output_type": "stream",
     "text": [
      "For epsilon = 1e-2:\n",
      "Analytical derivative of f at the point x=1 =  1\n",
      "Numerical derivative of f at the point x=1 =  1.010000000000001\n",
      "Error=  0.010000000000000897\n",
      "----------------------------------------------------------------\n",
      "For epsilon = : 0.0001\n",
      "Numerical derivative of f at the point x=1 =  1.0000999999998899\n",
      "Error=  9.999999988985486e-05\n",
      "For epsilon = : 1e-06\n",
      "Numerical derivative of f at the point x=1 =  1.0000009999177333\n",
      "Error=  9.99917733279787e-07\n",
      "For epsilon = : 1e-08\n",
      "Numerical derivative of f at the point x=1 =  1.0000000039225287\n",
      "Error=  3.922528746258536e-09\n",
      "For epsilon = : 1e-10\n",
      "Numerical derivative of f at the point x=1 =  1.000000082840371\n",
      "Error=  8.284037100736441e-08\n",
      "For epsilon = : 1e-12\n",
      "Numerical derivative of f at the point x=1 =  1.0000889005833413\n",
      "Error=  8.890058334132256e-05\n",
      "For epsilon = : 1e-14\n",
      "Numerical derivative of f at the point x=1 =  0.9992007221626509\n",
      "Error=  0.0007992778373491216\n"
     ]
    }
   ],
   "source": [
    "def f(x):\n",
    "    return x*(x-1)\n",
    "def numerical_derivative_f(x,epsilon):\n",
    "    return (f(x+epsilon) - f(x))/ epsilon\n",
    "def analytical_derivative_f(x):\n",
    "    return 2*x - 1\n",
    "epsilon = 1e-2\n",
    "print(\"For epsilon = 1e-2:\")\n",
    "print (\"Analytical derivative of f at the point x=1 = \", analytical_derivative_f(1))\n",
    "print (\"Numerical derivative of f at the point x=1 = \", numerical_derivative_f(1, epsilon))\n",
    "print (\"Error= \", abs(analytical_derivative_f(1) - numerical_derivative_f(1, epsilon)))\n",
    "\n",
    "#The numerical derivative and the analytical derivative didn't match perfectly because we can't make delta exactly zero, so there's always a small error in our calculation.\n",
    "print(\"----------------------------------------------------------------\")\n",
    "\n",
    "epsilons = [1e-4, 1e-6, 1e-8, 1e-10, 1e-12, 1e-14]\n",
    "for e in epsilons: \n",
    "    print(\"For epsilon = :\" , e)\n",
    "    print (\"Numerical derivative of f at the point x=1 = \", numerical_derivative_f(1, e))\n",
    "    print (\"Error= \", abs(analytical_derivative_f(1) - numerical_derivative_f(1, e)))\n",
    "\n",
    "#The smaller we make delta, the more accurate our approximation becomes, and the closer our numerical derivative gets to the true value (analytical derivative)."
   ]
  },
  {
   "cell_type": "markdown",
   "metadata": {},
   "source": [
    "7\\. **Integral of a semicircle**\n",
    "\n",
    "Consider the integral of the semicircle of radius 1:\n",
    "$$\n",
    "I=\\int_{-1}^{1} \\sqrt(1-x^2) {\\rm d}x\n",
    "$$\n",
    "which is known to be $I=\\frac{\\pi}{2}=1.57079632679...$.\n",
    "\n",
    "Alternatively we can use the Riemann definition of the integral:\n",
    "$$\n",
    "I=\\lim_{N\\to\\infty} \\sum_{k=1}^{N} h y_k \n",
    "$$\n",
    "\n",
    "with $h=2/N$ the width of each of the $N$ slices the domain is divided into and where\n",
    "$y_k$ is the value of the function at the $k-$th slice.\n",
    "\n",
    "(a) Write a program to compute the integral with $N=100$. How does the result compare to the true value?\n",
    "\n",
    "(b) How much can $N$ be increased if the computation needs to be run in less than a second? What is the gain in running it for 1 minute? Use `timeit` to measure the time."
   ]
  },
  {
   "cell_type": "code",
   "execution_count": 5,
   "metadata": {},
   "outputs": [
    {
     "name": "stdout",
     "output_type": "stream",
     "text": [
      "For N = 100 the integral =  1.5691342555492505\n",
      "True value =  1.5707963267948966\n",
      "For computation in less than a second the largest N is  6553600\n",
      "The gain in running in 1 minute is  200160192.0\n"
     ]
    }
   ],
   "source": [
    "import math\n",
    "import timeit\n",
    "\n",
    "#7a\n",
    "\n",
    "def semi_cercle_integral(x):\n",
    "    return math.sqrt(1 - x**2)\n",
    "\n",
    "def Riemann_integral(N):\n",
    "    h= 2/N\n",
    "    res = 0\n",
    "    for k in range (N):\n",
    "        xk = -1 + k*h\n",
    "        yk = semi_cercle_integral(xk)\n",
    "        res += h*yk\n",
    "    return res\n",
    "\n",
    "N = 100\n",
    "true_value = math.pi /2\n",
    "print (\"For N = 100 the integral = \", Riemann_integral(N))\n",
    "print (\"True value = \", true_value)\n",
    "\n",
    "#7b\n",
    "while True:\n",
    "    execution_time = timeit.timeit(lambda: Riemann_integral(N), number=1)\n",
    "    if execution_time > 1: #less than a second \n",
    "        break\n",
    "    N *= 2\n",
    "print (\"For computation in less than a second the largest N is \", N )\n",
    "\n",
    "#for 1 minute\n",
    "G = N*60 //execution_time\n",
    "print (\"The gain in running in 1 minute is \", G)"
   ]
  }
 ],
 "metadata": {
  "kernelspec": {
   "display_name": "Python 3 (ipykernel)",
   "language": "python",
   "name": "python3"
  },
  "language_info": {
   "codemirror_mode": {
    "name": "ipython",
    "version": 3
   },
   "file_extension": ".py",
   "mimetype": "text/x-python",
   "name": "python",
   "nbconvert_exporter": "python",
   "pygments_lexer": "ipython3",
   "version": "3.11.2"
  }
 },
 "nbformat": 4,
 "nbformat_minor": 2
}
