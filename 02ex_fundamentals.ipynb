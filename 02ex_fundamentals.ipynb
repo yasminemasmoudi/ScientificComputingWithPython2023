{
 "cells": [
  {
   "cell_type": "markdown",
   "metadata": {},
   "source": [
    "1\\. **Global variables**\n",
    "\n",
    "Convert the function $f$ into a function that doesn't use global variables and that does not modify the original list"
   ]
  },
  {
   "cell_type": "code",
   "execution_count": 1,
   "metadata": {},
   "outputs": [
    {
     "name": "stdout",
     "output_type": "stream",
     "text": [
      "[1, 2, 3, 0, 1, 2, 3, 4]\n",
      "[1, 2, 3, 0, 1, 2, 3, 4]\n"
     ]
    }
   ],
   "source": [
    "x = 5\n",
    "\n",
    "def f(alist):\n",
    "    for i in range(x):\n",
    "        alist.append(i)\n",
    "    return alist\n",
    "\n",
    "alist = [1, 2, 3]\n",
    "ans = f(alist)\n",
    "print(ans)\n",
    "print(alist) # alist has been changed"
   ]
  },
  {
   "cell_type": "code",
   "execution_count": 2,
   "metadata": {},
   "outputs": [
    {
     "name": "stdout",
     "output_type": "stream",
     "text": [
      "[1, 2, 3, 0, 1, 2, 3, 4]\n",
      "[1, 2, 3]\n"
     ]
    }
   ],
   "source": [
    "x = 5\n",
    "\n",
    "def f(alist):\n",
    "    L = alist.copy()\n",
    "    for i in range(5):\n",
    "        L.append(i)\n",
    "    return L\n",
    "\n",
    "alist = [1, 2, 3]\n",
    "ans = f(alist)\n",
    "print(ans)\n",
    "print(alist)  # alist didn't change"
   ]
  },
  {
   "cell_type": "markdown",
   "metadata": {},
   "source": [
    "2\\. **List comprehension**\n",
    "\n",
    "Write the following expression using a list comprehension:\n",
    "\n",
    "`ans = list(map(lambda x: x * x, filter(lambda x: x % 2 == 1, range(10))))`"
   ]
  },
  {
   "cell_type": "code",
   "execution_count": 3,
   "metadata": {},
   "outputs": [
    {
     "name": "stdout",
     "output_type": "stream",
     "text": [
      "[1, 9, 25, 49, 81]\n"
     ]
    }
   ],
   "source": [
    "ans = [x * x for x in range(10) if x % 2 == 1]\n",
    "print(ans)"
   ]
  },
  {
   "cell_type": "markdown",
   "metadata": {},
   "source": [
    "3\\. **Filter list**\n",
    "\n",
    "Using the `filter()` hof, define a function that takes a list of words and an integer `n` as arguments, and returns a list of words that are shorter than `n`."
   ]
  },
  {
   "cell_type": "code",
   "execution_count": 4,
   "metadata": {},
   "outputs": [
    {
     "name": "stdout",
     "output_type": "stream",
     "text": [
      "['hello', 'hi']\n"
     ]
    }
   ],
   "source": [
    "def filter_list(L, n):\n",
    "    ans = list(filter(lambda w: len(w) < n, L))\n",
    "    return ans\n",
    "\n",
    "L = [\"yasminemasmoudi\", \"hello\", \"hi\"]\n",
    "n = 6\n",
    "result = filter_list(L, n)\n",
    "print(result)"
   ]
  },
  {
   "cell_type": "markdown",
   "metadata": {},
   "source": [
    "4\\. **Map dictionary**\n",
    "\n",
    "\n",
    "Consider the following dictionary:\n",
    "\n",
    "`lang = {\"Python\" : 3, \"Java\" : '', \"Cplusplus\" : 'test', \"Php\" : 0.7}`\n",
    "\n",
    "Write a function that takes the above dictionary and uses the `map()` higher order function to return a list that contains the length of the keys of the dictionary."
   ]
  },
  {
   "cell_type": "code",
   "execution_count": 5,
   "metadata": {},
   "outputs": [
    {
     "name": "stdout",
     "output_type": "stream",
     "text": [
      "[6, 4, 9, 3]\n"
     ]
    }
   ],
   "source": [
    "lang = {\"Python\" : 3, \"Java\" : '', \"Cplusplus\" : 'test', \"Php\" : 0.7}\n",
    "ans = list(map(lambda x : len(x) , lang.keys() ))\n",
    "print(ans)"
   ]
  },
  {
   "cell_type": "markdown",
   "metadata": {},
   "source": [
    "5\\. **Lambda functions**\n",
    "\n",
    "Write a Python program that sorts the following list of tuples using a lambda function, according to the alphabetical order of the first element of the tuple:\n",
    "\n",
    "`language_scores = [('Python', 97), ('Cplusplus', 81), ('Php', 45), ('Java', 32)]`\n",
    "\n",
    "*Hint*: use the method `sort()` and its argument `key` of the `list` data structure."
   ]
  },
  {
   "cell_type": "code",
   "execution_count": 6,
   "metadata": {},
   "outputs": [
    {
     "name": "stdout",
     "output_type": "stream",
     "text": [
      "[('Cplusplus', 81), ('Java', 32), ('Php', 45), ('Python', 97)]\n"
     ]
    }
   ],
   "source": [
    "language_scores = [('Python', 97), ('Cplusplus', 81), ('Php', 45), ('Java', 32)]\n",
    "language_scores.sort(key= lambda x : x[0].upper())\n",
    "ans = language_scores\n",
    "print(ans)"
   ]
  },
  {
   "cell_type": "markdown",
   "metadata": {},
   "source": [
    "6\\. **Nested functions**\n",
    "\n",
    "Write two functions: one that returns the square of a number, and one that returns its cube.\n",
    "\n",
    "Then, write a third function that returns the number raised to the 6th power, using only the two previous functions."
   ]
  },
  {
   "cell_type": "code",
   "execution_count": 7,
   "metadata": {},
   "outputs": [
    {
     "data": {
      "text/plain": [
       "64"
      ]
     },
     "execution_count": 7,
     "metadata": {},
     "output_type": "execute_result"
    }
   ],
   "source": [
    "def square(x):\n",
    "    return x * x\n",
    "def cube(x):\n",
    "    return x * x * x\n",
    "def third_f(x):\n",
    "    return cube(square(x))\n",
    "third_f(2)"
   ]
  },
  {
   "cell_type": "markdown",
   "metadata": {},
   "source": [
    "7\\. **Decorators**\n",
    "\n",
    "Write a decorator named `hello` that makes every wrapped function print “Hello World!” each time the function is called.\n",
    "\n",
    "The wrapped function should look like:\n",
    "\n",
    "```python\n",
    "@hello\n",
    "def square(x):\n",
    "    return x*x\n",
    "```"
   ]
  },
  {
   "cell_type": "code",
   "execution_count": 8,
   "metadata": {},
   "outputs": [
    {
     "name": "stdout",
     "output_type": "stream",
     "text": [
      "Before\n",
      "16\n",
      "After\n"
     ]
    }
   ],
   "source": [
    "def hello(func): \n",
    "    def wrapper(x):\n",
    "        print(\"Before\")\n",
    "        print( func(x) )\n",
    "        print(\"After\")\n",
    "    return wrapper \n",
    "\n",
    "@hello\n",
    "def square(x):\n",
    "    return x*x\n",
    "\n",
    "square(4)"
   ]
  },
  {
   "cell_type": "markdown",
   "metadata": {},
   "source": [
    "8\\. **The Fibonacci sequence (part 2)**\n",
    "\n",
    "Calculate the first 20 numbers of the [Fibonacci sequence](https://en.wikipedia.org/wiki/Fibonacci_number) using a recursive function."
   ]
  },
  {
   "cell_type": "code",
   "execution_count": 10,
   "metadata": {},
   "outputs": [
    {
     "data": {
      "text/plain": [
       "3"
      ]
     },
     "execution_count": 10,
     "metadata": {},
     "output_type": "execute_result"
    }
   ],
   "source": [
    "def fib(x):\n",
    "    if x <= 1:\n",
    "        return x\n",
    "    else:\n",
    "        return fib (x-1) + fib(x-2)\n",
    "fib(4)"
   ]
  },
  {
   "cell_type": "markdown",
   "metadata": {},
   "source": [
    "9\\. **The Fibonacci sequence (part 3)**\n",
    "\n",
    "Run both the Fibonacci recursive function from the previous exercise, and the Fibonacci function from 01ex that use only `for` and `while` loops.\n",
    "\n",
    "Measure the execution code of the two functions with `timeit` ([link to the doc](https://docs.python.org/3/library/timeit.html)), for example:\n",
    "\n",
    "`%timeit loopFibonacci(20)`\n",
    "\n",
    "`%timeit recursiveFibonacci(20)`\n",
    "\n",
    "which one is the most efficient implementation? By how much?"
   ]
  },
  {
   "cell_type": "code",
   "execution_count": 9,
   "metadata": {},
   "outputs": [
    {
     "name": "stdout",
     "output_type": "stream",
     "text": [
      "0.015788499964401126\n",
      "13.985143599915318\n"
     ]
    }
   ],
   "source": [
    "import timeit\n",
    "\n",
    "def loopFibonacci(n):\n",
    "    fib = [0,1]\n",
    "    for i in range(2, n+1):\n",
    "        fib.append(fib[i-1] + fib[i-2])\n",
    "    return fib[n]\n",
    "def recursiveFibonacci(x):\n",
    "    if x<=1:\n",
    "        return x\n",
    "    else:\n",
    "        return recursiveFibonacci(x-1) + recursiveFibonacci(x-2)\n",
    "    \n",
    "if __name__ == \"__main__\":\n",
    "    print(timeit.timeit(\"loopFibonacci(20)\", globals=globals(), number=10000))\n",
    "    print(timeit.timeit(\"recursiveFibonacci(20)\", globals=globals(), number=10000))\n",
    "\n",
    "#For the iterative Fibonacci function (loopFibonacci(20)), the time per loop is approximately 0.0172 ms.\n",
    "#For the recursive Fibonacci function (recursiveFibonacci(20)), the time per loop is approximately 9.7913 ms.\n",
    "\n",
    "#Conclusion: The iterative Fibonacci function is 570 times faster than the recursive Fibonacci function \n",
    "#for the input value `n = 20`."
   ]
  },
  {
   "cell_type": "markdown",
   "metadata": {},
   "source": [
    "10\\. **Class definition**\n",
    "\n",
    "Define a class `polygon`. The constructor has to take a tuple as input that contains the length of each side. The (unordered) input list does not have to have a fixed length, but should contain at least 3 items.\n",
    "\n",
    "- Create appropriate methods to get and set the length of each side\n",
    "\n",
    "- Create a method `perimeter()` that returns the perimeter of the polygon\n",
    "\n",
    "- Create a method `getOrderedSides(increasing = True)` that returns a tuple containing the length of the sides arranged in increasing or decreasing order, depending on the argument of the method\n",
    "\n",
    "Test the class by creating an instance and calling the `perimeter()` and `getOrderedSides(increasing = True)` methods."
   ]
  },
  {
   "cell_type": "code",
   "execution_count": 11,
   "metadata": {},
   "outputs": [
    {
     "name": "stdout",
     "output_type": "stream",
     "text": [
      "Polygon's side lengths: [4, 5, 6]\n",
      "Perimeter: 15\n",
      "Ordered Sides (Increasing): (4, 5, 6)\n",
      "Ordered Sides (Decreasing): (6, 5, 4)\n"
     ]
    }
   ],
   "source": [
    "class Polygon:\n",
    "    x = []\n",
    "\n",
    "    def __init__(self, t):\n",
    "        if len(t)< 3 :\n",
    "            print(\"A polygon must have at least 3 sides\")\n",
    "        else:\n",
    "            self.t = list(t)\n",
    "    \n",
    "    def getSideLengths(self): \n",
    "        return self.t\n",
    "    \n",
    "    def setSideLengths(self, t): \n",
    "        if len(t)< 3 :\n",
    "                print(\"A polygon must have at least 3 sides\")\n",
    "        else:\n",
    "            self.t = list(t)\n",
    "    \n",
    "    def perimeter(self): \n",
    "        return sum(self.t)\n",
    "    \n",
    "    def getOrderedSides(self, increasing = True):\n",
    "        if increasing:\n",
    "            sides = sorted(self.t) #the output is a list \n",
    "        else: \n",
    "            sides = sorted(self.t, reverse=True) #the output is a list \n",
    "        return tuple(sides) \n",
    "#testing the class \n",
    "polygon = Polygon((4, 5, 6))\n",
    "print(\"Polygon's side lengths:\", polygon.getSideLengths())\n",
    "print(\"Perimeter:\", polygon.perimeter())\n",
    "print(\"Ordered Sides (Increasing):\", polygon.getOrderedSides(increasing=True))\n",
    "print(\"Ordered Sides (Decreasing):\", polygon.getOrderedSides(increasing=False))"
   ]
  },
  {
   "cell_type": "markdown",
   "metadata": {},
   "source": [
    "11\\. **Class inheritance**\n",
    "\n",
    "Define a class `rectangle` that inherits from `polygon`. Modify the constructor, if necessary, to make sure that the input data is consistent with the geometrical properties of a rectangle.\n",
    "\n",
    "- Create a method `area()` that returns the area of the rectangle.\n",
    "\n",
    "Test the `rectangle` class by creating an instance and passing an appropriate input to the constructor."
   ]
  },
  {
   "cell_type": "code",
   "execution_count": 12,
   "metadata": {},
   "outputs": [
    {
     "name": "stdout",
     "output_type": "stream",
     "text": [
      "Side lengths of the Rectangle: [4, 5, 4, 5]\n",
      "Perimeter of the Rectangle: 18\n",
      "Area of the Rectangle: 20\n"
     ]
    }
   ],
   "source": [
    "class Rectangle (Polygon):\n",
    "    def __init__(self, length, width):\n",
    "        super().__init__([length, width, length, width])\n",
    "    def area(self):\n",
    "        return self.t[0]*self.t[1] \n",
    "    \n",
    "#testing the class\n",
    "rectangle = Rectangle(4, 5) \n",
    "print(\"Side lengths of the Rectangle:\", rectangle.getSideLengths())\n",
    "print(\"Perimeter of the Rectangle:\", rectangle.perimeter())\n",
    "print(\"Area of the Rectangle:\", rectangle.area())"
   ]
  }
 ],
 "metadata": {
  "kernelspec": {
   "display_name": "Python 3 (ipykernel)",
   "language": "python",
   "name": "python3"
  },
  "language_info": {
   "codemirror_mode": {
    "name": "ipython",
    "version": 3
   },
   "file_extension": ".py",
   "mimetype": "text/x-python",
   "name": "python",
   "nbconvert_exporter": "python",
   "pygments_lexer": "ipython3",
   "version": "3.11.2"
  }
 },
 "nbformat": 4,
 "nbformat_minor": 2
}
